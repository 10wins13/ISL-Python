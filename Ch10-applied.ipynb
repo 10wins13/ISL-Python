{
 "cells": [
  {
   "cell_type": "markdown",
   "id": "5674ff7c",
   "metadata": {},
   "source": [
    "<h3><b> Chapter 10: Deep Learning </b></h>"
   ]
  },
  {
   "cell_type": "code",
   "execution_count": 39,
   "id": "b457f1b1",
   "metadata": {},
   "outputs": [],
   "source": [
    "# Libraries\n",
    "import numpy as np\n",
    "import pandas as pd\n",
    "from matplotlib.pyplot import subplots\n",
    "from sklearn.linear_model import LinearRegression, LogisticRegression, Lasso\n",
    "from sklearn.preprocessing import StandardScaler\n",
    "from sklearn.model_selection import KFold\n",
    "from sklearn.pipeline import Pipeline\n",
    "from ISLP import load_data\n",
    "from ISLP.models import ModelSpec as MS\n",
    "from sklearn.model_selection import train_test_split, GridSearchCV\n",
    "\n",
    "# Torch-specific imports\n",
    "import torch\n",
    "import json\n",
    "from torch import nn\n",
    "from torch.optim import RMSprop\n",
    "from torch.utils.data import TensorDataset\n",
    "from torchmetrics import MeanAbsoluteError, R2Score\n",
    "from pytorch_lightning import Trainer\n",
    "from pytorch_lightning.loggers import CSVLogger\n",
    "from pytorch_lightning import seed_everything\n",
    "from ISLP.torch import SimpleDataModule, SimpleModule, ErrorTracker, rec_num_workers\n",
    "from ISLP.torch.imdb import load_lookup, load_tensor, load_sparse, load_sequential\n",
    "from glob import glob\n",
    "from torchinfo import summary\n",
    "from torchvision.io import read_image\n",
    "from torchvision.datasets import MNIST, CIFAR100\n",
    "from torchvision.models import resnet50, ResNet50_Weights\n",
    "from torchvision.transforms import Resize, Normalize, CenterCrop, ToTensor"
   ]
  },
  {
   "cell_type": "code",
   "execution_count": 2,
   "id": "2456e93c",
   "metadata": {},
   "outputs": [
    {
     "name": "stderr",
     "output_type": "stream",
     "text": [
      "Seed set to 0\n"
     ]
    }
   ],
   "source": [
    "seed_everything(0, workers=True)\n",
    "torch.use_deterministic_algorithms(True, warn_only=True)"
   ]
  },
  {
   "cell_type": "markdown",
   "id": "2ca2e593",
   "metadata": {},
   "source": [
    "<b> Q7 </b>"
   ]
  },
  {
   "cell_type": "code",
   "execution_count": 38,
   "id": "92153c18",
   "metadata": {},
   "outputs": [
    {
     "data": {
      "text/plain": [
       "===================================================================================================================\n",
       "Layer (type:depth-idx)                   Input Shape               Output Shape              Param #\n",
       "===================================================================================================================\n",
       "DefaultModel                             [8000, 3]                 [8000]                    --\n",
       "├─Flatten: 1-1                           [8000, 3]                 [8000, 3]                 --\n",
       "├─Sequential: 1-2                        [8000, 3]                 [8000, 1]                 --\n",
       "│    └─Linear: 2-1                       [8000, 3]                 [8000, 10]                40\n",
       "│    └─ReLU: 2-2                         [8000, 10]                [8000, 10]                --\n",
       "│    └─Dropout: 2-3                      [8000, 10]                [8000, 10]                --\n",
       "│    └─Linear: 2-4                       [8000, 10]                [8000, 1]                 11\n",
       "===================================================================================================================\n",
       "Total params: 51\n",
       "Trainable params: 51\n",
       "Non-trainable params: 0\n",
       "Total mult-adds (Units.MEGABYTES): 0.41\n",
       "===================================================================================================================\n",
       "Input size (MB): 0.10\n",
       "Forward/backward pass size (MB): 0.70\n",
       "Params size (MB): 0.00\n",
       "Estimated Total Size (MB): 0.80\n",
       "==================================================================================================================="
      ]
     },
     "execution_count": 38,
     "metadata": {},
     "output_type": "execute_result"
    }
   ],
   "source": [
    "# Load data\n",
    "default = load_data('Default').dropna()\n",
    "n = default.shape[0]\n",
    "\n",
    "# Data preprocessing\n",
    "model = MS(default.columns.drop(\"default\"), intercept=False)\n",
    "X = model.fit_transform(default).to_numpy()\n",
    "Y = np.where(default[\"default\"] == \"Yes\", 1, 0)\n",
    "\n",
    "X_train, X_test, Y_train, Y_test = train_test_split(X, Y, test_size=1/5, random_state=1)\n",
    "\n",
    "# Specifying neural network\n",
    "class DefaultModel(nn.Module):\n",
    "\n",
    "    def __init__(self, input_size):\n",
    "        super(DefaultModel, self).__init__()\n",
    "        self.flatten = nn.Flatten()\n",
    "        self.sequential = nn.Sequential(\n",
    "            nn.Linear(input_size, 10),\n",
    "            nn.ReLU(),\n",
    "            nn.Dropout(0.4),\n",
    "            nn.Linear(10, 1))\n",
    "\n",
    "    def forward(self, x):\n",
    "        x = self.flatten(x)\n",
    "        return torch.flatten(self.sequential(x))\n",
    "default_model = DefaultModel(X.shape[1])\n",
    "summary(default_model, input_size=X_train.shape, col_names=[\"input_size\", \"output_size\", \"num_params\"])"
   ]
  },
  {
   "cell_type": "code",
   "execution_count": 13,
   "id": "9776e49b",
   "metadata": {},
   "outputs": [],
   "source": [
    "# Data preprocessing\n",
    "X_train_t = torch.tensor(X_train.astype(np.float32))\n",
    "Y_train_t = torch.tensor(Y_train.astype(np.float32))\n",
    "X_test_t = torch.tensor(X_test.astype(np.float32))\n",
    "Y_test_t = torch.tensor(Y_test.astype(np.float32))\n",
    "default_train = TensorDataset(X_train_t, Y_train_t)\n",
    "default_test = TensorDataset(X_test_t, Y_test_t)"
   ]
  },
  {
   "cell_type": "code",
   "execution_count": null,
   "id": "3477f651",
   "metadata": {},
   "outputs": [
    {
     "name": "stderr",
     "output_type": "stream",
     "text": [
      "GPU available: False, used: False\n",
      "TPU available: False, using: 0 TPU cores\n"
     ]
    },
    {
     "name": "stderr",
     "output_type": "stream",
     "text": [
      "HPU available: False, using: 0 HPUs\n",
      "\n",
      "  | Name  | Type         | Params | Mode \n",
      "-----------------------------------------------\n",
      "0 | model | DefaultModel | 51     | train\n",
      "1 | loss  | MSELoss      | 0      | train\n",
      "-----------------------------------------------\n",
      "51        Trainable params\n",
      "0         Non-trainable params\n",
      "51        Total params\n",
      "0.000     Total estimated model params size (MB)\n",
      "8         Modules in train mode\n",
      "0         Modules in eval mode\n"
     ]
    },
    {
     "name": "stdout",
     "output_type": "stream",
     "text": [
      "Epoch 49: 100%|██████████| 250/250 [00:01<00:00, 165.81it/s, v_num=2]       "
     ]
    },
    {
     "name": "stderr",
     "output_type": "stream",
     "text": [
      "`Trainer.fit` stopped: `max_epochs=50` reached.\n"
     ]
    },
    {
     "name": "stdout",
     "output_type": "stream",
     "text": [
      "Epoch 49: 100%|██████████| 250/250 [00:01<00:00, 165.13it/s, v_num=2]\n",
      "Testing DataLoader 0: 100%|██████████| 63/63 [00:00<00:00, 517.78it/s]\n",
      "────────────────────────────────────────────────────────────────────────────────────────────────────────────────────────\n",
      "       Test metric             DataLoader 0\n",
      "────────────────────────────────────────────────────────────────────────────────────────────────────────────────────────\n",
      "        test_MAE           0.050042327493429184\n",
      "        test_loss          0.028688568621873856\n",
      "────────────────────────────────────────────────────────────────────────────────────────────────────────────────────────\n"
     ]
    },
    {
     "data": {
      "text/plain": [
       "[{'test_loss': 0.028688568621873856, 'test_MAE': 0.050042327493429184}]"
      ]
     },
     "execution_count": 24,
     "metadata": {},
     "output_type": "execute_result"
    }
   ],
   "source": [
    "# Max workers = 12 for this PC\n",
    "max_num_workers = rec_num_workers()\n",
    "default_dm = SimpleDataModule(default_train, \n",
    "                              default_test,\n",
    "                              batch_size=32,\n",
    "                              num_workers=min(4, max_num_workers),\n",
    "                              validation=default_test)\n",
    "default_module = SimpleModule.regression(default_model, metrics={\"MAE\":MeanAbsoluteError()})\n",
    "default_logger = CSVLogger(\"logs\", name=\"default\")\n",
    "\n",
    "# Trainer\n",
    "default_trainer = Trainer(deterministic=True,\n",
    "                          max_epochs=50,\n",
    "                          log_every_n_steps=5,\n",
    "                          logger=default_logger,\n",
    "                          callbacks=[ErrorTracker()])\n",
    "default_trainer.fit(default_module, datamodule=default_dm)\n",
    "default_trainer.test(default_module, datamodule=default_dm)"
   ]
  },
  {
   "cell_type": "code",
   "execution_count": 35,
   "id": "d2cded12",
   "metadata": {},
   "outputs": [
    {
     "name": "stdout",
     "output_type": "stream",
     "text": [
      "tensor(0.0500, grad_fn=<MeanBackward0>)\n"
     ]
    },
    {
     "data": {
      "image/png": "[encoded data removed]",
      "text/plain": [
       "<Figure size 600x600 with 1 Axes>"
      ]
     },
     "metadata": {},
     "output_type": "display_data"
    }
   ],
   "source": [
    "# Summary of results\n",
    "default_results = pd.read_csv(default_logger.experiment.metrics_file_path)\n",
    "def summary_plot(results,\n",
    "                 ax,\n",
    "                 col='loss',\n",
    "                 valid_legend='Validation',\n",
    "                 training_legend='Training',\n",
    "                 ylabel='Loss',\n",
    "                 fontsize=20):\n",
    "    for (column, color, label) in zip([f'train_{col}_epoch',\n",
    "                                       f'valid_{col}'],\n",
    "                                      ['black', 'red'],\n",
    "                                      [training_legend, valid_legend]):\n",
    "        results.plot(x='epoch', y=column, label=label, marker='o', color=color, ax=ax)\n",
    "    ax.set_xlabel('Epoch')\n",
    "    ax.set_ylabel(ylabel)\n",
    "    return ax\n",
    "\n",
    "fig, ax = subplots(1, 1, figsize=(6, 6))\n",
    "ax = summary_plot(default_results,\n",
    "                  ax,\n",
    "                  col='MAE',\n",
    "                  ylabel='MAE',\n",
    "                  valid_legend='Validation (=Test)')\n",
    "ax.set_ylim([0, 1])\n",
    "ax.set_xticks(np.linspace(0, 50, 11).astype(int));\n",
    "\n",
    "default_model.eval() \n",
    "preds = default_module(X_test_t)\n",
    "print(torch.abs(Y_test_t - preds).mean())"
   ]
  },
  {
   "cell_type": "code",
   "execution_count": 43,
   "id": "4c48b971",
   "metadata": {},
   "outputs": [
    {
     "name": "stdout",
     "output_type": "stream",
     "text": [
      "0.026\n"
     ]
    }
   ],
   "source": [
    "# Comparison with linear logit\n",
    "logit = LogisticRegression().fit(X_train, Y_train)\n",
    "ypred = logit.predict(X_test)\n",
    "mae = np.abs(Y_test - ypred).mean()\n",
    "print(mae)"
   ]
  },
  {
   "cell_type": "markdown",
   "id": "c9a75358",
   "metadata": {},
   "source": [
    "Using MAE, linear logistic regression outperforms deep learning. This may be due to the training set size to be not as large for deep learning to have its use (n=8000 for k=51)."
   ]
  },
  {
   "cell_type": "code",
   "execution_count": null,
   "id": "3b0c4642",
   "metadata": {},
   "outputs": [],
   "source": [
    "# Cleanup\n",
    "del(default,\n",
    "    default_model, default_dm,\n",
    "    default_logger,\n",
    "    default_test, default_train,\n",
    "    X, Y,\n",
    "    X_test, X_train,\n",
    "    Y_test, Y_train,\n",
    "    X_test_t, Y_test_t,\n",
    "    default_trainer, default_module)"
   ]
  },
  {
   "cell_type": "markdown",
   "id": "c3ea68f4",
   "metadata": {},
   "source": [
    "<b> Q9 </b>"
   ]
  },
  {
   "cell_type": "code",
   "execution_count": 46,
   "id": "5d419280",
   "metadata": {},
   "outputs": [
    {
     "data": {
      "text/html": [
       "<div>\n",
       "<style scoped>\n",
       "    .dataframe tbody tr th:only-of-type {\n",
       "        vertical-align: middle;\n",
       "    }\n",
       "\n",
       "    .dataframe tbody tr th {\n",
       "        vertical-align: top;\n",
       "    }\n",
       "\n",
       "    .dataframe thead th {\n",
       "        text-align: right;\n",
       "    }\n",
       "</style>\n",
       "<table border=\"1\" class=\"dataframe\">\n",
       "  <thead>\n",
       "    <tr style=\"text-align: right;\">\n",
       "      <th></th>\n",
       "      <th>day_of_week</th>\n",
       "      <th>DJ_return</th>\n",
       "      <th>log_volume</th>\n",
       "      <th>log_volatility</th>\n",
       "      <th>train</th>\n",
       "    </tr>\n",
       "    <tr>\n",
       "      <th>date</th>\n",
       "      <th></th>\n",
       "      <th></th>\n",
       "      <th></th>\n",
       "      <th></th>\n",
       "      <th></th>\n",
       "    </tr>\n",
       "  </thead>\n",
       "  <tbody>\n",
       "    <tr>\n",
       "      <th>1962-12-03</th>\n",
       "      <td>mon</td>\n",
       "      <td>-0.004461</td>\n",
       "      <td>0.032573</td>\n",
       "      <td>-13.127403</td>\n",
       "      <td>True</td>\n",
       "    </tr>\n",
       "    <tr>\n",
       "      <th>1962-12-04</th>\n",
       "      <td>tues</td>\n",
       "      <td>0.007813</td>\n",
       "      <td>0.346202</td>\n",
       "      <td>-11.749305</td>\n",
       "      <td>True</td>\n",
       "    </tr>\n",
       "    <tr>\n",
       "      <th>1962-12-05</th>\n",
       "      <td>wed</td>\n",
       "      <td>0.003845</td>\n",
       "      <td>0.525306</td>\n",
       "      <td>-11.665609</td>\n",
       "      <td>True</td>\n",
       "    </tr>\n",
       "    <tr>\n",
       "      <th>1962-12-06</th>\n",
       "      <td>thur</td>\n",
       "      <td>-0.003462</td>\n",
       "      <td>0.210182</td>\n",
       "      <td>-11.626772</td>\n",
       "      <td>True</td>\n",
       "    </tr>\n",
       "    <tr>\n",
       "      <th>1962-12-07</th>\n",
       "      <td>fri</td>\n",
       "      <td>0.000568</td>\n",
       "      <td>0.044187</td>\n",
       "      <td>-11.728130</td>\n",
       "      <td>True</td>\n",
       "    </tr>\n",
       "    <tr>\n",
       "      <th>...</th>\n",
       "      <td>...</td>\n",
       "      <td>...</td>\n",
       "      <td>...</td>\n",
       "      <td>...</td>\n",
       "      <td>...</td>\n",
       "    </tr>\n",
       "    <tr>\n",
       "      <th>1986-12-24</th>\n",
       "      <td>wed</td>\n",
       "      <td>0.006514</td>\n",
       "      <td>-0.236104</td>\n",
       "      <td>-9.807366</td>\n",
       "      <td>False</td>\n",
       "    </tr>\n",
       "    <tr>\n",
       "      <th>1986-12-26</th>\n",
       "      <td>fri</td>\n",
       "      <td>0.001825</td>\n",
       "      <td>-1.322425</td>\n",
       "      <td>-9.906025</td>\n",
       "      <td>False</td>\n",
       "    </tr>\n",
       "    <tr>\n",
       "      <th>1986-12-29</th>\n",
       "      <td>mon</td>\n",
       "      <td>-0.009515</td>\n",
       "      <td>-0.371237</td>\n",
       "      <td>-9.827660</td>\n",
       "      <td>False</td>\n",
       "    </tr>\n",
       "    <tr>\n",
       "      <th>1986-12-30</th>\n",
       "      <td>tues</td>\n",
       "      <td>-0.001837</td>\n",
       "      <td>-0.385638</td>\n",
       "      <td>-9.926091</td>\n",
       "      <td>False</td>\n",
       "    </tr>\n",
       "    <tr>\n",
       "      <th>1986-12-31</th>\n",
       "      <td>wed</td>\n",
       "      <td>-0.006655</td>\n",
       "      <td>-0.264986</td>\n",
       "      <td>-9.935527</td>\n",
       "      <td>False</td>\n",
       "    </tr>\n",
       "  </tbody>\n",
       "</table>\n",
       "<p>6051 rows × 5 columns</p>\n",
       "</div>"
      ],
      "text/plain": [
       "           day_of_week  DJ_return  log_volume  log_volatility  train\n",
       "date                                                                \n",
       "1962-12-03         mon  -0.004461    0.032573      -13.127403   True\n",
       "1962-12-04        tues   0.007813    0.346202      -11.749305   True\n",
       "1962-12-05         wed   0.003845    0.525306      -11.665609   True\n",
       "1962-12-06        thur  -0.003462    0.210182      -11.626772   True\n",
       "1962-12-07         fri   0.000568    0.044187      -11.728130   True\n",
       "...                ...        ...         ...             ...    ...\n",
       "1986-12-24         wed   0.006514   -0.236104       -9.807366  False\n",
       "1986-12-26         fri   0.001825   -1.322425       -9.906025  False\n",
       "1986-12-29         mon  -0.009515   -0.371237       -9.827660  False\n",
       "1986-12-30        tues  -0.001837   -0.385638       -9.926091  False\n",
       "1986-12-31         wed  -0.006655   -0.264986       -9.935527  False\n",
       "\n",
       "[6051 rows x 5 columns]"
      ]
     },
     "execution_count": 46,
     "metadata": {},
     "output_type": "execute_result"
    }
   ],
   "source": [
    "# Load data\n",
    "nyse = load_data('NYSE').dropna()\n",
    "n = nyse.shape[0]\n",
    "nyse"
   ]
  },
  {
   "cell_type": "code",
   "execution_count": null,
   "id": "70b7ff10",
   "metadata": {},
   "outputs": [],
   "source": []
  }
 ],
 "metadata": {
  "kernelspec": {
   "display_name": ".venv",
   "language": "python",
   "name": "python3"
  },
  "language_info": {
   "codemirror_mode": {
    "name": "ipython",
    "version": 3
   },
   "file_extension": ".py",
   "mimetype": "text/x-python",
   "name": "python",
   "nbconvert_exporter": "python",
   "pygments_lexer": "ipython3",
   "version": "3.13.2"
  }
 },
 "nbformat": 4,
 "nbformat_minor": 5
}
