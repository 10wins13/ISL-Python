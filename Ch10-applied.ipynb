{
 "cells": [
  {
   "cell_type": "markdown",
   "id": "5674ff7c",
   "metadata": {},
   "source": [
    "<h3><b> Chapter 10: Deep Learning </b></h>"
   ]
  },
  {
   "cell_type": "code",
   "execution_count": 2,
   "id": "b457f1b1",
   "metadata": {},
   "outputs": [],
   "source": [
    "# Libraries\n",
    "import numpy as np\n",
    "import pandas as pd\n",
    "from matplotlib.pyplot import subplots\n",
    "from sklearn.linear_model import LinearRegression, LogisticRegression, Lasso\n",
    "from sklearn.preprocessing import StandardScaler\n",
    "from sklearn.model_selection import KFold\n",
    "from sklearn.pipeline import Pipeline\n",
    "from ISLP import load_data\n",
    "from ISLP.models import ModelSpec as MS\n",
    "from sklearn.model_selection import train_test_split, GridSearchCV\n",
    "\n",
    "# Torch-specific imports\n",
    "import torch\n",
    "import json\n",
    "from torch import nn\n",
    "from torch.optim import RMSprop\n",
    "from torch.utils.data import TensorDataset\n",
    "from torchmetrics import MeanAbsoluteError, R2Score\n",
    "from pytorch_lightning import Trainer\n",
    "from pytorch_lightning.loggers import CSVLogger\n",
    "from pytorch_lightning import seed_everything\n",
    "from ISLP.torch import SimpleDataModule, SimpleModule, ErrorTracker, rec_num_workers\n",
    "from ISLP.torch.imdb import load_lookup, load_tensor, load_sparse, load_sequential\n",
    "from glob import glob\n",
    "from torchinfo import summary\n",
    "from torchvision.io import read_image\n",
    "from torchvision.datasets import MNIST, CIFAR100\n",
    "from torchvision.models import resnet50, ResNet50_Weights\n",
    "from torchvision.transforms import Resize, Normalize, CenterCrop, ToTensor"
   ]
  },
  {
   "cell_type": "code",
   "execution_count": 3,
   "id": "2456e93c",
   "metadata": {},
   "outputs": [
    {
     "name": "stderr",
     "output_type": "stream",
     "text": [
      "Seed set to 0\n"
     ]
    }
   ],
   "source": [
    "seed_everything(0, workers=True)\n",
    "torch.use_deterministic_algorithms(True, warn_only=True)"
   ]
  },
  {
   "cell_type": "markdown",
   "id": "2ca2e593",
   "metadata": {},
   "source": [
    "<b> Q7 </b>"
   ]
  },
  {
   "cell_type": "code",
   "execution_count": 9,
   "id": "92153c18",
   "metadata": {},
   "outputs": [
    {
     "data": {
      "text/plain": [
       "===================================================================================================================\n",
       "Layer (type:depth-idx)                   Input Shape               Output Shape              Param #\n",
       "===================================================================================================================\n",
       "DefaultModel                             [8000, 3]                 [8000]                    --\n",
       "├─Flatten: 1-1                           [8000, 3]                 [8000, 3]                 --\n",
       "├─Sequential: 1-2                        [8000, 3]                 [8000, 1]                 --\n",
       "│    └─Linear: 2-1                       [8000, 3]                 [8000, 10]                40\n",
       "│    └─ReLU: 2-2                         [8000, 10]                [8000, 10]                --\n",
       "│    └─Dropout: 2-3                      [8000, 10]                [8000, 10]                --\n",
       "│    └─Linear: 2-4                       [8000, 10]                [8000, 1]                 11\n",
       "===================================================================================================================\n",
       "Total params: 51\n",
       "Trainable params: 51\n",
       "Non-trainable params: 0\n",
       "Total mult-adds (Units.MEGABYTES): 0.41\n",
       "===================================================================================================================\n",
       "Input size (MB): 0.10\n",
       "Forward/backward pass size (MB): 0.70\n",
       "Params size (MB): 0.00\n",
       "Estimated Total Size (MB): 0.80\n",
       "==================================================================================================================="
      ]
     },
     "execution_count": 9,
     "metadata": {},
     "output_type": "execute_result"
    }
   ],
   "source": [
    "# Load data\n",
    "default = load_data('Default').dropna()\n",
    "n = default.shape[0]\n",
    "\n",
    "# Data preprocessing\n",
    "model = MS(default.columns.drop(\"default\"), intercept=False)\n",
    "X = model.fit_transform(default).to_numpy()\n",
    "Y = np.where(default[\"default\"] == \"Yes\", 1, 0)\n",
    "\n",
    "X_train, X_test, Y_train, Y_test = train_test_split(X, Y, test_size=1/5, random_state=1)\n",
    "\n",
    "# Specifying neural network\n",
    "class DefaultModel(nn.Module):\n",
    "\n",
    "    def __init__(self, input_size):\n",
    "        super(DefaultModel, self).__init__()\n",
    "        self.flatten = nn.Flatten()\n",
    "        self.sequential = nn.Sequential(\n",
    "            nn.Linear(input_size, 10),\n",
    "            nn.ReLU(),\n",
    "            nn.Dropout(0.4),\n",
    "            nn.Linear(10, 1))\n",
    "\n",
    "    def forward(self, x):\n",
    "        x = self.flatten(x)\n",
    "        return torch.flatten(self.sequential(x))\n",
    "default_model = DefaultModel(X.shape[1])\n",
    "summary(default_model, input_size=X_train.shape, col_names=[\"input_size\", \"output_size\", \"num_params\"])"
   ]
  },
  {
   "cell_type": "code",
   "execution_count": 10,
   "id": "9776e49b",
   "metadata": {},
   "outputs": [],
   "source": [
    "# Data preprocessing\n",
    "X_train_t = torch.tensor(X_train.astype(np.float32))\n",
    "Y_train_t = torch.tensor(Y_train.astype(np.float32))\n",
    "X_test_t = torch.tensor(X_test.astype(np.float32))\n",
    "Y_test_t = torch.tensor(Y_test.astype(np.float32))\n",
    "default_train = TensorDataset(X_train_t, Y_train_t)\n",
    "default_test = TensorDataset(X_test_t, Y_test_t)"
   ]
  },
  {
   "cell_type": "code",
   "execution_count": 11,
   "id": "3477f651",
   "metadata": {},
   "outputs": [
    {
     "name": "stderr",
     "output_type": "stream",
     "text": [
      "GPU available: False, used: False\n",
      "TPU available: False, using: 0 TPU cores\n",
      "HPU available: False, using: 0 HPUs\n",
      "\n",
      "  | Name  | Type         | Params | Mode \n",
      "-----------------------------------------------\n",
      "0 | model | DefaultModel | 51     | train\n",
      "1 | loss  | MSELoss      | 0      | train\n",
      "-----------------------------------------------\n",
      "51        Trainable params\n",
      "0         Non-trainable params\n",
      "51        Total params\n",
      "0.000     Total estimated model params size (MB)\n",
      "8         Modules in train mode\n",
      "0         Modules in eval mode\n"
     ]
    },
    {
     "name": "stdout",
     "output_type": "stream",
     "text": [
      "Sanity Checking: |          | 0/? [00:00<?, ?it/s]"
     ]
    },
    {
     "name": "stdout",
     "output_type": "stream",
     "text": [
      "Epoch 49: 100%|██████████| 250/250 [00:01<00:00, 187.24it/s, v_num=3]       "
     ]
    },
    {
     "name": "stderr",
     "output_type": "stream",
     "text": [
      "`Trainer.fit` stopped: `max_epochs=50` reached.\n"
     ]
    },
    {
     "name": "stdout",
     "output_type": "stream",
     "text": [
      "Epoch 49: 100%|██████████| 250/250 [00:01<00:00, 186.31it/s, v_num=3]\n",
      "Testing DataLoader 0: 100%|██████████| 63/63 [00:00<00:00, 336.03it/s]\n",
      "────────────────────────────────────────────────────────────────────────────────────────────────────────────────────────\n",
      "       Test metric             DataLoader 0\n",
      "────────────────────────────────────────────────────────────────────────────────────────────────────────────────────────\n",
      "        test_MAE            0.0662161111831665\n",
      "        test_loss          0.028720347210764885\n",
      "────────────────────────────────────────────────────────────────────────────────────────────────────────────────────────\n"
     ]
    },
    {
     "data": {
      "text/plain": [
       "[{'test_loss': 0.028720347210764885, 'test_MAE': 0.0662161111831665}]"
      ]
     },
     "execution_count": 11,
     "metadata": {},
     "output_type": "execute_result"
    }
   ],
   "source": [
    "# Max workers = 12 for this PC\n",
    "max_num_workers = rec_num_workers()\n",
    "default_dm = SimpleDataModule(default_train, \n",
    "                              default_test,\n",
    "                              batch_size=32,\n",
    "                              num_workers=min(4, max_num_workers),\n",
    "                              validation=default_test)\n",
    "default_module = SimpleModule.regression(default_model, metrics={\"MAE\":MeanAbsoluteError()})\n",
    "default_logger = CSVLogger(\"logs\", name=\"default\")\n",
    "\n",
    "# Trainer\n",
    "default_trainer = Trainer(deterministic=True,\n",
    "                          max_epochs=50,\n",
    "                          log_every_n_steps=5,\n",
    "                          logger=default_logger,\n",
    "                          callbacks=[ErrorTracker()])\n",
    "default_trainer.fit(default_module, datamodule=default_dm)\n",
    "default_trainer.test(default_module, datamodule=default_dm)"
   ]
  },
  {
   "cell_type": "code",
   "execution_count": 12,
   "id": "d2cded12",
   "metadata": {},
   "outputs": [
    {
     "name": "stdout",
     "output_type": "stream",
     "text": [
      "tensor(0.0662, grad_fn=<MeanBackward0>)\n"
     ]
    },
    {
     "data": {
      "image/png": "[encoded data removed]",
      "text/plain": [
       "<Figure size 600x600 with 1 Axes>"
      ]
     },
     "metadata": {},
     "output_type": "display_data"
    }
   ],
   "source": [
    "# Summary of results\n",
    "default_results = pd.read_csv(default_logger.experiment.metrics_file_path)\n",
    "def summary_plot(results,\n",
    "                 ax,\n",
    "                 col='loss',\n",
    "                 valid_legend='Validation',\n",
    "                 training_legend='Training',\n",
    "                 ylabel='Loss',\n",
    "                 fontsize=20):\n",
    "    for (column, color, label) in zip([f'train_{col}_epoch',\n",
    "                                       f'valid_{col}'],\n",
    "                                      ['black', 'red'],\n",
    "                                      [training_legend, valid_legend]):\n",
    "        results.plot(x='epoch', y=column, label=label, marker='o', color=color, ax=ax)\n",
    "    ax.set_xlabel('Epoch')\n",
    "    ax.set_ylabel(ylabel)\n",
    "    return ax\n",
    "\n",
    "fig, ax = subplots(1, 1, figsize=(6, 6))\n",
    "ax = summary_plot(default_results,\n",
    "                  ax,\n",
    "                  col='MAE',\n",
    "                  ylabel='MAE',\n",
    "                  valid_legend='Validation (=Test)')\n",
    "ax.set_ylim([0, 1])\n",
    "ax.set_xticks(np.linspace(0, 50, 11).astype(int));\n",
    "\n",
    "default_model.eval() \n",
    "preds = default_module(X_test_t)\n",
    "print(torch.abs(Y_test_t - preds).mean())"
   ]
  },
  {
   "cell_type": "code",
   "execution_count": 13,
   "id": "4c48b971",
   "metadata": {},
   "outputs": [
    {
     "name": "stdout",
     "output_type": "stream",
     "text": [
      "0.026\n"
     ]
    }
   ],
   "source": [
    "# Comparison with linear logit\n",
    "logit = LogisticRegression().fit(X_train, Y_train)\n",
    "ypred = logit.predict(X_test)\n",
    "mae = np.abs(Y_test - ypred).mean()\n",
    "print(mae)"
   ]
  },
  {
   "cell_type": "markdown",
   "id": "c9a75358",
   "metadata": {},
   "source": [
    "Using MAE, linear logistic regression outperforms deep learning. This may be due to the training set size to be not as large for deep learning to have its use (n=8000 for k=51)."
   ]
  },
  {
   "cell_type": "code",
   "execution_count": 14,
   "id": "3b0c4642",
   "metadata": {},
   "outputs": [],
   "source": [
    "# Cleanup\n",
    "del(default,\n",
    "    default_model, default_dm,\n",
    "    default_logger,\n",
    "    default_test, default_train,\n",
    "    X, Y,\n",
    "    X_test, X_train,\n",
    "    Y_test, Y_train,\n",
    "    X_test_t, Y_test_t,\n",
    "    default_trainer, default_module)"
   ]
  },
  {
   "cell_type": "markdown",
   "id": "68efaaac",
   "metadata": {},
   "source": [
    "<b> Q9 </b>"
   ]
  },
  {
   "cell_type": "code",
   "execution_count": 102,
   "id": "5fe5eaed",
   "metadata": {},
   "outputs": [
    {
     "name": "stdout",
     "output_type": "stream",
     "text": [
      "R-squared value = 0.4129\n"
     ]
    }
   ],
   "source": [
    "# Load data\n",
    "NYSE = load_data('NYSE')\n",
    "cols = ['DJ_return', 'log_volume', 'log_volatility']\n",
    "X = pd.DataFrame(StandardScaler(with_mean=True, with_std=True).fit_transform(NYSE[cols]),\n",
    "                 columns=NYSE[cols].columns,\n",
    "                 index=NYSE.index)\n",
    "\n",
    "# Create lagged data\n",
    "for lag in range(1, 6):\n",
    "    for col in cols:\n",
    "        newcol = np.zeros(X.shape[0]) * np.nan\n",
    "        newcol[lag:] = X[col].values[:-lag]\n",
    "        X.insert(len(X.columns), \"{0}_{1}\".format(col, lag), newcol)\n",
    "X.insert(len(X.columns), 'train', NYSE['train'])\n",
    "X = X.dropna()\n",
    "\n",
    "# Split X and Y\n",
    "Y, train = X['log_volume'], X['train']\n",
    "X = X.drop(columns=['train'] + cols)\n",
    "\n",
    "# Fit AR5 Model\n",
    "M = LinearRegression()\n",
    "M.fit(X[train], Y[train])\n",
    "print(f\"R-squared value = {round(M.score(X[~train], Y[~train]), 4)}\")"
   ]
  },
  {
   "cell_type": "code",
   "execution_count": 105,
   "id": "fb829ad2",
   "metadata": {},
   "outputs": [
    {
     "name": "stdout",
     "output_type": "stream",
     "text": [
      "R-squared value = 0.4117\n"
     ]
    }
   ],
   "source": [
    "# Load data\n",
    "NYSE = load_data('NYSE')\n",
    "cols = ['DJ_return', 'log_volume', 'log_volatility']\n",
    "X = pd.DataFrame(StandardScaler(with_mean=True, with_std=True).fit_transform(NYSE[cols]),\n",
    "                 columns=NYSE[cols].columns,\n",
    "                 index=NYSE.index)\n",
    "\n",
    "# Create lagged data\n",
    "for lag in range(1, 6):\n",
    "    for col in cols:\n",
    "        newcol = np.zeros(X.shape[0]) * np.nan\n",
    "        newcol[lag:] = X[col].values[:-lag]\n",
    "        X.insert(len(X.columns), \"{0}_{1}\".format(col, lag), newcol)\n",
    "X.insert(len(X.columns), 'train', NYSE['train'])\n",
    "\n",
    "# Add 12-level variable \"month\"\n",
    "X.index = pd.to_datetime(X.index)\n",
    "X[\"month\"] = X.index.month\n",
    "X = X.dropna()\n",
    "\n",
    "# Split X and Y\n",
    "Y, train = X['log_volume'], X['train']\n",
    "X = X.drop(columns=['train'] + cols)\n",
    "\n",
    "# Fit AR5 Model\n",
    "M = LinearRegression()\n",
    "M.fit(X[train], Y[train])\n",
    "print(f\"R-squared value = {round(M.score(X[~train], Y[~train]), 4)}\")"
   ]
  },
  {
   "cell_type": "markdown",
   "id": "46c9c3ba",
   "metadata": {},
   "source": [
    "The factor does not improve the model."
   ]
  },
  {
   "cell_type": "markdown",
   "id": "19a43bdd",
   "metadata": {},
   "source": [
    "<b> Q10 </b>"
   ]
  },
  {
   "cell_type": "code",
   "execution_count": null,
   "id": "addefcba",
   "metadata": {},
   "outputs": [],
   "source": []
  },
  {
   "cell_type": "markdown",
   "id": "c3ea68f4",
   "metadata": {},
   "source": [
    "<b> Q12 </b>"
   ]
  },
  {
   "cell_type": "code",
   "execution_count": 53,
   "id": "5d419280",
   "metadata": {},
   "outputs": [],
   "source": [
    "# Data with variable day_of_week as dummy\n",
    "NYSE = load_data('NYSE')\n",
    "cols = ['DJ_return', 'log_volume', 'log_volatility']\n",
    "X = pd.DataFrame(StandardScaler(with_mean=True, with_std=True).fit_transform(NYSE[cols]),\n",
    "                 columns=NYSE[cols].columns,\n",
    "                 index=NYSE.index)\n",
    "\n",
    "# Create lagged data\n",
    "for lag in range(1, 6):\n",
    "    for col in cols:\n",
    "        newcol = np.zeros(X.shape[0]) * np.nan\n",
    "        newcol[lag:] = X[col].values[:-lag]\n",
    "        X.insert(len(X.columns), \"{0}_{1}\".format(col, lag), newcol)\n",
    "X.insert(len(X.columns), 'train', NYSE['train'])\n",
    "X = X.dropna()\n",
    "\n",
    "Y, train = X['log_volume'], X['train']\n",
    "X = X.drop(columns=['train'] + cols)\n",
    "X_day = pd.concat([X, pd.get_dummies(NYSE['day_of_week'])], axis=1).dropna()\n",
    "\n",
    "# Refit the data with lag 5 (NEED CHANGE)\n",
    "# ordered_cols = []\n",
    "# for lag in range(5,0,-1):\n",
    "#     for col in cols:\n",
    "#         ordered_cols.append('{0}_{1}'.format(col, lag))\n",
    "# X_day = X_day.reindex(columns=ordered_cols)\n",
    "# X_rnn = X_day.to_numpy().reshape((-1,5,3))"
   ]
  },
  {
   "cell_type": "code",
   "execution_count": 43,
   "id": "70b7ff10",
   "metadata": {},
   "outputs": [],
   "source": [
    "class NYSEModel(nn.Module):\n",
    "    def __init__(self):\n",
    "        super(NYSEModel, self).__init__()\n",
    "        self.rnn = nn.RNN(3, 12, batch_first=True)\n",
    "        self.dense = nn.Linear(12, 1)\n",
    "        self.dropout = nn.Dropout(0.1)\n",
    "    def forward(self, x):\n",
    "        val, h_n = self.rnn(x)\n",
    "        val = self.dense(self.dropout(val[:,-1]))\n",
    "        return torch.flatten(val)\n",
    "nyse_model = NYSEModel()"
   ]
  },
  {
   "cell_type": "code",
   "execution_count": 44,
   "id": "404803cb",
   "metadata": {},
   "outputs": [
    {
     "name": "stderr",
     "output_type": "stream",
     "text": [
      "C:\\Users\\winso\\AppData\\Local\\Temp\\ipykernel_10572\\2602126799.py:4: FutureWarning: Series.__getitem__ treating keys as positions is deprecated. In a future version, integer keys will always be treated as labels (consistent with DataFrame behavior). To access a value by position, use `ser.iloc[pos]`\n",
      "  Y_t = torch.tensor(Y[mask].astype(np.float32))\n",
      "C:\\Users\\winso\\AppData\\Local\\Temp\\ipykernel_10572\\2602126799.py:4: FutureWarning: Series.__getitem__ treating keys as positions is deprecated. In a future version, integer keys will always be treated as labels (consistent with DataFrame behavior). To access a value by position, use `ser.iloc[pos]`\n",
      "  Y_t = torch.tensor(Y[mask].astype(np.float32))\n"
     ]
    },
    {
     "data": {
      "text/plain": [
       "===================================================================================================================\n",
       "Layer (type:depth-idx)                   Input Shape               Output Shape              Param #\n",
       "===================================================================================================================\n",
       "NYSEModel                                [1770, 5, 3]              [1770]                    --\n",
       "├─RNN: 1-1                               [1770, 5, 3]              [1770, 5, 12]             204\n",
       "├─Dropout: 1-2                           [1770, 12]                [1770, 12]                --\n",
       "├─Linear: 1-3                            [1770, 12]                [1770, 1]                 13\n",
       "===================================================================================================================\n",
       "Total params: 217\n",
       "Trainable params: 217\n",
       "Non-trainable params: 0\n",
       "Total mult-adds (Units.MEGABYTES): 1.83\n",
       "===================================================================================================================\n",
       "Input size (MB): 0.11\n",
       "Forward/backward pass size (MB): 0.86\n",
       "Params size (MB): 0.00\n",
       "Estimated Total Size (MB): 0.97\n",
       "==================================================================================================================="
      ]
     },
     "execution_count": 44,
     "metadata": {},
     "output_type": "execute_result"
    }
   ],
   "source": [
    "datasets = []\n",
    "for mask in [train, ~train]:\n",
    "    X_rnn_t = torch.tensor(X_rnn[mask].astype(np.float32))\n",
    "    Y_t = torch.tensor(Y[mask].astype(np.float32))\n",
    "    datasets.append(TensorDataset(X_rnn_t, Y_t))\n",
    "nyse_train, nyse_test = datasets\n",
    "\n",
    "summary(nyse_model, input_data=X_rnn_t, col_names=['input_size', 'output_size', 'num_params'])"
   ]
  },
  {
   "cell_type": "code",
   "execution_count": 45,
   "id": "5fc2a79d",
   "metadata": {},
   "outputs": [
    {
     "name": "stdout",
     "output_type": "stream",
     "text": [
      "torch.Size([64]) torch.Size([64])\n",
      "torch.Size([64]) torch.Size([64])\n",
      "torch.Size([64]) torch.Size([64])\n"
     ]
    },
    {
     "name": "stderr",
     "output_type": "stream",
     "text": [
      "GPU available: False, used: False\n",
      "TPU available: False, using: 0 TPU cores\n",
      "HPU available: False, using: 0 HPUs\n",
      "\n",
      "  | Name  | Type      | Params | Mode \n",
      "--------------------------------------------\n",
      "0 | model | NYSEModel | 217    | train\n",
      "1 | loss  | MSELoss   | 0      | train\n",
      "--------------------------------------------\n",
      "217       Trainable params\n",
      "0         Non-trainable params\n",
      "217       Total params\n",
      "0.001     Total estimated model params size (MB)\n",
      "5         Modules in train mode\n",
      "0         Modules in eval mode\n",
      "`Trainer.fit` stopped: `max_epochs=200` reached.\n"
     ]
    },
    {
     "name": "stdout",
     "output_type": "stream",
     "text": [
      "────────────────────────────────────────────────────────────────────────────────────────────────────────────────────────\n",
      "       Test metric             DataLoader 0\n",
      "────────────────────────────────────────────────────────────────────────────────────────────────────────────────────────\n",
      "        test_loss           0.6203494668006897\n",
      "         test_r2            0.41125810146331787\n",
      "────────────────────────────────────────────────────────────────────────────────────────────────────────────────────────\n"
     ]
    },
    {
     "data": {
      "text/plain": [
       "[{'test_loss': 0.6203494668006897, 'test_r2': 0.41125810146331787}]"
      ]
     },
     "execution_count": 45,
     "metadata": {},
     "output_type": "execute_result"
    }
   ],
   "source": [
    "nyse_dm = SimpleDataModule(nyse_train, nyse_test, num_workers=min(4, max_num_workers),\n",
    "                           validation=nyse_test, batch_size=64)\n",
    "for idx, (x, y) in enumerate(nyse_dm.train_dataloader()):\n",
    "    out = nyse_model(x)\n",
    "    print(y.size(), out.size())\n",
    "    if idx >= 2:\n",
    "        break\n",
    "    \n",
    "nyse_optimizer = RMSprop(nyse_model.parameters(), lr=0.001)\n",
    "nyse_module = SimpleModule.regression(nyse_model, optimizer=nyse_optimizer, metrics={'r2':R2Score()})\n",
    "nyse_trainer = Trainer(deterministic=True, max_epochs=200, enable_progress_bar=False, callbacks=[ErrorTracker()])\n",
    "nyse_trainer.fit(nyse_module, datamodule=nyse_dm)\n",
    "nyse_trainer.test(nyse_module, datamodule=nyse_dm)\n"
   ]
  },
  {
   "cell_type": "markdown",
   "id": "2b8a6c90",
   "metadata": {},
   "source": [
    "R-squared is shown to be around 41.284% for the lag-5 autoregressive model."
   ]
  },
  {
   "cell_type": "code",
   "execution_count": null,
   "id": "a491f1a7",
   "metadata": {},
   "outputs": [
    {
     "data": {
      "text/html": [
       "<div>\n",
       "<style scoped>\n",
       "    .dataframe tbody tr th:only-of-type {\n",
       "        vertical-align: middle;\n",
       "    }\n",
       "\n",
       "    .dataframe tbody tr th {\n",
       "        vertical-align: top;\n",
       "    }\n",
       "\n",
       "    .dataframe thead th {\n",
       "        text-align: right;\n",
       "    }\n",
       "</style>\n",
       "<table border=\"1\" class=\"dataframe\">\n",
       "  <thead>\n",
       "    <tr style=\"text-align: right;\">\n",
       "      <th></th>\n",
       "      <th>DJ_return_1</th>\n",
       "      <th>log_volume_1</th>\n",
       "      <th>log_volatility_1</th>\n",
       "      <th>DJ_return_2</th>\n",
       "      <th>log_volume_2</th>\n",
       "      <th>log_volatility_2</th>\n",
       "      <th>DJ_return_3</th>\n",
       "      <th>log_volume_3</th>\n",
       "      <th>log_volatility_3</th>\n",
       "      <th>DJ_return_4</th>\n",
       "      <th>log_volume_4</th>\n",
       "      <th>log_volatility_4</th>\n",
       "      <th>DJ_return_5</th>\n",
       "      <th>log_volume_5</th>\n",
       "      <th>log_volatility_5</th>\n",
       "      <th>mon</th>\n",
       "      <th>tues</th>\n",
       "      <th>wed</th>\n",
       "      <th>thur</th>\n",
       "      <th>fri</th>\n",
       "    </tr>\n",
       "    <tr>\n",
       "      <th>date</th>\n",
       "      <th></th>\n",
       "      <th></th>\n",
       "      <th></th>\n",
       "      <th></th>\n",
       "      <th></th>\n",
       "      <th></th>\n",
       "      <th></th>\n",
       "      <th></th>\n",
       "      <th></th>\n",
       "      <th></th>\n",
       "      <th></th>\n",
       "      <th></th>\n",
       "      <th></th>\n",
       "      <th></th>\n",
       "      <th></th>\n",
       "      <th></th>\n",
       "      <th></th>\n",
       "      <th></th>\n",
       "      <th></th>\n",
       "      <th></th>\n",
       "    </tr>\n",
       "  </thead>\n",
       "  <tbody>\n",
       "    <tr>\n",
       "      <th>1962-12-10</th>\n",
       "      <td>0.046340</td>\n",
       "      <td>0.224779</td>\n",
       "      <td>-2.500970</td>\n",
       "      <td>-0.431397</td>\n",
       "      <td>0.935176</td>\n",
       "      <td>-2.366521</td>\n",
       "      <td>0.434813</td>\n",
       "      <td>2.283789</td>\n",
       "      <td>-2.418037</td>\n",
       "      <td>0.905200</td>\n",
       "      <td>1.517291</td>\n",
       "      <td>-2.529058</td>\n",
       "      <td>-0.549823</td>\n",
       "      <td>0.175075</td>\n",
       "      <td>-4.357078</td>\n",
       "      <td>True</td>\n",
       "      <td>False</td>\n",
       "      <td>False</td>\n",
       "      <td>False</td>\n",
       "      <td>False</td>\n",
       "    </tr>\n",
       "    <tr>\n",
       "      <th>1962-12-11</th>\n",
       "      <td>-1.304126</td>\n",
       "      <td>0.605918</td>\n",
       "      <td>-1.366028</td>\n",
       "      <td>0.046340</td>\n",
       "      <td>0.224779</td>\n",
       "      <td>-2.500970</td>\n",
       "      <td>-0.431397</td>\n",
       "      <td>0.935176</td>\n",
       "      <td>-2.366521</td>\n",
       "      <td>0.434813</td>\n",
       "      <td>2.283789</td>\n",
       "      <td>-2.418037</td>\n",
       "      <td>0.905200</td>\n",
       "      <td>1.517291</td>\n",
       "      <td>-2.529058</td>\n",
       "      <td>False</td>\n",
       "      <td>True</td>\n",
       "      <td>False</td>\n",
       "      <td>False</td>\n",
       "      <td>False</td>\n",
       "    </tr>\n",
       "    <tr>\n",
       "      <th>1962-12-12</th>\n",
       "      <td>-0.006294</td>\n",
       "      <td>-0.013661</td>\n",
       "      <td>-1.505667</td>\n",
       "      <td>-1.304126</td>\n",
       "      <td>0.605918</td>\n",
       "      <td>-1.366028</td>\n",
       "      <td>0.046340</td>\n",
       "      <td>0.224779</td>\n",
       "      <td>-2.500970</td>\n",
       "      <td>-0.431397</td>\n",
       "      <td>0.935176</td>\n",
       "      <td>-2.366521</td>\n",
       "      <td>0.434813</td>\n",
       "      <td>2.283789</td>\n",
       "      <td>-2.418037</td>\n",
       "      <td>False</td>\n",
       "      <td>False</td>\n",
       "      <td>True</td>\n",
       "      <td>False</td>\n",
       "      <td>False</td>\n",
       "    </tr>\n",
       "    <tr>\n",
       "      <th>1962-12-13</th>\n",
       "      <td>0.377081</td>\n",
       "      <td>0.042552</td>\n",
       "      <td>-1.551515</td>\n",
       "      <td>-0.006294</td>\n",
       "      <td>-0.013661</td>\n",
       "      <td>-1.505667</td>\n",
       "      <td>-1.304126</td>\n",
       "      <td>0.605918</td>\n",
       "      <td>-1.366028</td>\n",
       "      <td>0.046340</td>\n",
       "      <td>0.224779</td>\n",
       "      <td>-2.500970</td>\n",
       "      <td>-0.431397</td>\n",
       "      <td>0.935176</td>\n",
       "      <td>-2.366521</td>\n",
       "      <td>False</td>\n",
       "      <td>False</td>\n",
       "      <td>False</td>\n",
       "      <td>True</td>\n",
       "      <td>False</td>\n",
       "    </tr>\n",
       "    <tr>\n",
       "      <th>1962-12-14</th>\n",
       "      <td>-0.411718</td>\n",
       "      <td>-0.419836</td>\n",
       "      <td>-1.597607</td>\n",
       "      <td>0.377081</td>\n",
       "      <td>0.042552</td>\n",
       "      <td>-1.551515</td>\n",
       "      <td>-0.006294</td>\n",
       "      <td>-0.013661</td>\n",
       "      <td>-1.505667</td>\n",
       "      <td>-1.304126</td>\n",
       "      <td>0.605918</td>\n",
       "      <td>-1.366028</td>\n",
       "      <td>0.046340</td>\n",
       "      <td>0.224779</td>\n",
       "      <td>-2.500970</td>\n",
       "      <td>False</td>\n",
       "      <td>False</td>\n",
       "      <td>False</td>\n",
       "      <td>False</td>\n",
       "      <td>True</td>\n",
       "    </tr>\n",
       "  </tbody>\n",
       "</table>\n",
       "</div>"
      ],
      "text/plain": [
       "            DJ_return_1  log_volume_1  log_volatility_1  DJ_return_2  \\\n",
       "date                                                                   \n",
       "1962-12-10     0.046340      0.224779         -2.500970    -0.431397   \n",
       "1962-12-11    -1.304126      0.605918         -1.366028     0.046340   \n",
       "1962-12-12    -0.006294     -0.013661         -1.505667    -1.304126   \n",
       "1962-12-13     0.377081      0.042552         -1.551515    -0.006294   \n",
       "1962-12-14    -0.411718     -0.419836         -1.597607     0.377081   \n",
       "\n",
       "            log_volume_2  log_volatility_2  DJ_return_3  log_volume_3  \\\n",
       "date                                                                    \n",
       "1962-12-10      0.935176         -2.366521     0.434813      2.283789   \n",
       "1962-12-11      0.224779         -2.500970    -0.431397      0.935176   \n",
       "1962-12-12      0.605918         -1.366028     0.046340      0.224779   \n",
       "1962-12-13     -0.013661         -1.505667    -1.304126      0.605918   \n",
       "1962-12-14      0.042552         -1.551515    -0.006294     -0.013661   \n",
       "\n",
       "            log_volatility_3  DJ_return_4  log_volume_4  log_volatility_4  \\\n",
       "date                                                                        \n",
       "1962-12-10         -2.418037     0.905200      1.517291         -2.529058   \n",
       "1962-12-11         -2.366521     0.434813      2.283789         -2.418037   \n",
       "1962-12-12         -2.500970    -0.431397      0.935176         -2.366521   \n",
       "1962-12-13         -1.366028     0.046340      0.224779         -2.500970   \n",
       "1962-12-14         -1.505667    -1.304126      0.605918         -1.366028   \n",
       "\n",
       "            DJ_return_5  log_volume_5  log_volatility_5    mon   tues    wed  \\\n",
       "date                                                                           \n",
       "1962-12-10    -0.549823      0.175075         -4.357078   True  False  False   \n",
       "1962-12-11     0.905200      1.517291         -2.529058  False   True  False   \n",
       "1962-12-12     0.434813      2.283789         -2.418037  False  False   True   \n",
       "1962-12-13    -0.431397      0.935176         -2.366521  False  False  False   \n",
       "1962-12-14     0.046340      0.224779         -2.500970  False  False  False   \n",
       "\n",
       "             thur    fri  \n",
       "date                      \n",
       "1962-12-10  False  False  \n",
       "1962-12-11  False  False  \n",
       "1962-12-12  False  False  \n",
       "1962-12-13   True  False  \n",
       "1962-12-14  False   True  "
      ]
     },
     "execution_count": 37,
     "metadata": {},
     "output_type": "execute_result"
    }
   ],
   "source": []
  },
  {
   "cell_type": "code",
   "execution_count": null,
   "id": "1c4682a1",
   "metadata": {},
   "outputs": [],
   "source": []
  }
 ],
 "metadata": {
  "kernelspec": {
   "display_name": ".venv",
   "language": "python",
   "name": "python3"
  },
  "language_info": {
   "codemirror_mode": {
    "name": "ipython",
    "version": 3
   },
   "file_extension": ".py",
   "mimetype": "text/x-python",
   "name": "python",
   "nbconvert_exporter": "python",
   "pygments_lexer": "ipython3",
   "version": "3.13.2"
  }
 },
 "nbformat": 4,
 "nbformat_minor": 5
}
